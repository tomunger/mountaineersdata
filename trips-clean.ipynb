{
 "cells": [
  {
   "cell_type": "markdown",
   "metadata": {},
   "source": [
    "# Clean up my Trip List\n",
    "\n",
    "**Now obsolete** The source files have been changed.\n",
    "\n",
    "Clean up the trip list I've kept in an excell file.\n",
    "\n",
    "* Load the file.\n",
    "* Normalize\n",
    "* Substitute actual people's names\n",
    "* Load recent mountaineer trips\n",
    "* Merge\n",
    "* Write to a CSV\n",
    "\n",
    "Then hand edit to clean up duplicates"
   ]
  },
  {
   "cell_type": "code",
   "execution_count": null,
   "metadata": {},
   "outputs": [],
   "source": [
    "import pandas as pd\n",
    "import seaborn as sns\n",
    "from pathlib import Path\n",
    "import trips_mtn\n",
    "\n",
    "TRIPS_DIR = Path(Path.home(), \"Documents/trips\")\n",
    "TRIPS_FILE = Path(TRIPS_DIR, \"TripList.xlsx\")\n",
    "TRIPS_FILE.exists()"
   ]
  },
  {
   "cell_type": "code",
   "execution_count": null,
   "metadata": {},
   "outputs": [],
   "source": [
    "# Load trips flie\n",
    "trips = pd.read_excel(TRIPS_FILE)\n",
    "trips.info()"
   ]
  },
  {
   "cell_type": "code",
   "execution_count": null,
   "metadata": {},
   "outputs": [],
   "source": [
    "# Normalize trip types and sub-type.\n",
    "\n",
    "# Split \"type\" into two components.\n",
    "triptypedf = trips['Type'].str.split(\"/\", n=2, expand=True)\n",
    "\n",
    "# Normalize the first component and make that the new Types column\n",
    "trips['Type'] = triptypedf[0].str.capitalize()\n"
   ]
  },
  {
   "cell_type": "code",
   "execution_count": null,
   "metadata": {},
   "outputs": [],
   "source": [
    "#\n",
    "# Joining sub type is harder.  Some sub-types come from the type and some are already in the field.\n",
    "#\n",
    "# Get subtype that was part of type.\n",
    "a = triptypedf[1].fillna('').str.capitalize()\n",
    "\n",
    "def either(a,b):\n",
    "\t'''Return either a or b, which ever one has a value.  Or the combined value if both have value.'''\n",
    "\tif a and b:\n",
    "\t\treturn str(a) + \"|\" + str(b)\n",
    "\tif a:\n",
    "\t\treturn a\n",
    "\tif b:\n",
    "\t\treturn b\n",
    "\treturn \"\"\n",
    "\n",
    "# Combine two series.\n",
    "z = a.combine(trips['SubType'].fillna(\"\").str.capitalize(), either, fill_value=\"\")\n",
    "trips['SubType'] = z\n"
   ]
  },
  {
   "cell_type": "code",
   "execution_count": null,
   "metadata": {},
   "outputs": [],
   "source": [
    "#\n",
    "# Load the trip partners table.  From that create a new dataframe that maps from codes used to person names.\n",
    "# \n",
    "partnersdf = pd.read_excel(TRIPS_FILE, sheet_name=\"TripPartners\")\n",
    "fullname = partnersdf['First'] + ' ' + partnersdf['Last']\n",
    "code = partnersdf['Code']\n",
    "namemapdf = pd.DataFrame(data = {\"code\": code, \"name\": fullname})\n",
    "namemapdf.set_index(keys='code', inplace=True)\n",
    "#namemapdf.head()\n"
   ]
  },
  {
   "cell_type": "code",
   "execution_count": null,
   "metadata": {},
   "outputs": [],
   "source": [
    "#\n",
    "# use the partners mapping to replace codes with full names\n",
    "#\n",
    "for i in trips.index:\n",
    "\tfor col in ('Ldr', 'p1', 'p2', 'p3', 'p4', 'p5', 'p6'):\n",
    "\t\tif pd.isna(trips.iloc[i][col]):\n",
    "\t\t\ttrips.at[i, col] = \"\"\n",
    "\t\telse:\n",
    "\t\t\tv = trips.iloc[i][col]\n",
    "\t\t\tif v:\n",
    "\t\t\t\ttry:\n",
    "\t\t\t\t\t# Get the full name from the map\n",
    "\t\t\t\t\tfullname = namemapdf.at[v.lower(), 'name']\n",
    "\t\t\t\t\ttrips.at[i, col] = fullname\n",
    "\t\t\t\texcept:\n",
    "\t\t\t\t\t# If look up did not work, use the value tha twas there.\n",
    "\t\t\t\t\tpass"
   ]
  },
  {
   "cell_type": "code",
   "execution_count": null,
   "metadata": {},
   "outputs": [],
   "source": [
    "trips.columns"
   ]
  },
  {
   "cell_type": "code",
   "execution_count": null,
   "metadata": {},
   "outputs": [],
   "source": [
    "mtndf = trips_mtn.load_mtn_activity()\n",
    "mtndf.to_csv(\"local-mtndf.csv\")\n",
    "desiredColumnOrder = list(mtndf.columns)\n",
    "#desiredColumnOrder"
   ]
  },
  {
   "cell_type": "code",
   "execution_count": null,
   "metadata": {},
   "outputs": [],
   "source": [
    "trips['Mtn'] = ''\t\t\t# Add field indicating this is not a mountainer trip\n",
    "trips = trips[desiredColumnOrder]\n",
    "trips = trips.append(mtndf, ignore_index=True)\n",
    "trips.sort_values(by='Date', inplace=True)"
   ]
  },
  {
   "cell_type": "code",
   "execution_count": null,
   "metadata": {},
   "outputs": [],
   "source": [
    "trips.columns\n"
   ]
  },
  {
   "cell_type": "code",
   "execution_count": null,
   "metadata": {},
   "outputs": [],
   "source": [
    "trips.to_csv(\"local-trips.csv\", date_format=\"%Y-%m-%d\", index=False)"
   ]
  },
  {
   "cell_type": "code",
   "execution_count": null,
   "metadata": {},
   "outputs": [],
   "source": [
    "trips"
   ]
  },
  {
   "cell_type": "code",
   "execution_count": null,
   "metadata": {},
   "outputs": [],
   "source": [
    "trips['Type'].unique()"
   ]
  },
  {
   "cell_type": "markdown",
   "metadata": {},
   "source": []
  },
  {
   "cell_type": "markdown",
   "metadata": {},
   "source": [
    "# Create trip partner list\n",
    "Maybe read from second sheet\n"
   ]
  }
 ],
 "metadata": {
  "interpreter": {
   "hash": "ca32639af4e881a92198579fde98c0a064ae0f1aa92fff83f228db627dc71bc3"
  },
  "kernelspec": {
   "display_name": "Python 3.8.12 64-bit ('piwtwdata': pyenv)",
   "language": "python",
   "name": "python3"
  },
  "language_info": {
   "codemirror_mode": {
    "name": "ipython",
    "version": 3
   },
   "file_extension": ".py",
   "mimetype": "text/x-python",
   "name": "python",
   "nbconvert_exporter": "python",
   "pygments_lexer": "ipython3",
   "version": "3.8.12"
  },
  "orig_nbformat": 4
 },
 "nbformat": 4,
 "nbformat_minor": 2
}
