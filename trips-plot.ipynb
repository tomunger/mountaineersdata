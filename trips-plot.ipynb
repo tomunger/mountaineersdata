{
 "cells": [
  {
   "cell_type": "code",
   "execution_count": null,
   "metadata": {},
   "outputs": [],
   "source": [
    "import pandas as pd\n",
    "import seaborn as sns\n",
    "from pathlib import Path\n",
    "\n",
    "TRIPS_DIR = Path(Path.home(), \"Documents/trips\")\n",
    "TRIPS_FILE = Path(TRIPS_DIR, \"TripList.xlsx\")\n",
    "TRIPS_FILE.exists()"
   ]
  },
  {
   "cell_type": "code",
   "execution_count": null,
   "metadata": {},
   "outputs": [],
   "source": [
    "#tripdf = pd.read_csv(\"local-trips.csv\", parse_dates=[\"Date\"])\n",
    "tripdf = pd.read_excel(TRIPS_FILE)\n",
    "\n",
    "tripdf.info()"
   ]
  },
  {
   "cell_type": "code",
   "execution_count": null,
   "metadata": {},
   "outputs": [],
   "source": [
    "tripdf['Year'] = tripdf['Date'].dt.year"
   ]
  },
  {
   "cell_type": "code",
   "execution_count": null,
   "metadata": {},
   "outputs": [],
   "source": [
    "sns.set(font_scale = 2)\n",
    "p = sns.catplot(x=\"Year\", y=\"Days\", hue=\"Type\",\n",
    "\t\tdata=tripdf, \n",
    "\t\tkind=\"swarm\",\n",
    "\t\theight=10,\n",
    "\t\taspect=6)\n",
    "p.set_titles([\"Trips\"])"
   ]
  }
 ],
 "metadata": {
  "interpreter": {
   "hash": "ca32639af4e881a92198579fde98c0a064ae0f1aa92fff83f228db627dc71bc3"
  },
  "kernelspec": {
   "display_name": "Python 3.8.12 64-bit ('piwtwdata')",
   "language": "python",
   "name": "python3"
  },
  "language_info": {
   "codemirror_mode": {
    "name": "ipython",
    "version": 3
   },
   "file_extension": ".py",
   "mimetype": "text/x-python",
   "name": "python",
   "nbconvert_exporter": "python",
   "pygments_lexer": "ipython3",
   "version": "3.11.3"
  },
  "orig_nbformat": 4
 },
 "nbformat": 4,
 "nbformat_minor": 2
}
