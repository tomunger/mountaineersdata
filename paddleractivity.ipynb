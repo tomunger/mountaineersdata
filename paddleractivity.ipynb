{
 "cells": [
  {
   "cell_type": "code",
   "execution_count": 1,
   "metadata": {},
   "outputs": [
    {
     "name": "stderr",
     "output_type": "stream",
     "text": [
      "/Users/unger/dev/src/mountaineersdata/env/lib/python3.9/site-packages/pandas/compat/__init__.py:124: UserWarning: Could not import the lzma module. Your installed Python is incomplete. Attempting to use lzma compression will result in a RuntimeError.\n",
      "  warnings.warn(msg)\n"
     ]
    }
   ],
   "source": [
    "import pandas as pd\n",
    "import matplotlib.pyplot as plt\n",
    "import numpy as np\n",
    "from pathlib import Path"
   ]
  },
  {
   "cell_type": "code",
   "execution_count": 2,
   "metadata": {},
   "outputs": [],
   "source": [
    "class FileCols(object):\n",
    "\t# Class holds information about a file.\n",
    "\tdef __init__(self, allCols, dateCols, intCols, dropCols):\n",
    "\t\tself.allCols = allCols\n",
    "\t\tself.dateCols = dateCols\n",
    "\t\tself.intCols = intCols\n",
    "\t\tself.dropCols = dropCols\n",
    "\n",
    "\t@property \n",
    "\tdef colTypeMap(self):\n",
    "\t\ttm = {}\n",
    "\t\tfor n in self.allCols:\n",
    "\t\t\tif not n in self.dateCols:\n",
    "\t\t\t\tif n in self.intCols:\n",
    "\t\t\t\t\ttm[n] = int\n",
    "\t\t\t\telse:\n",
    "\t\t\t\t\ttm[n] = str\n",
    "\t\treturn tm\n",
    "\n",
    "\t@property\n",
    "\tdef fixnaCols(self):\n",
    "\t\t# A list of columns where empty values should be changed to empty string\n",
    "\t\treturn [ n for n in self.allCols if n not in self.dropCols and n not in self.dateCols ]\n",
    "\n",
    "DataDirectory = Path(Path.home(), \"Documents/mountaineers/kayak-seattle/data/paddleractivity\")\n",
    "\n",
    "\n",
    "#\n",
    "# Column names.\n",
    "#\n",
    "C_FIRSTNAME = \"First Name\"\n",
    "C_LASTNAME = \"Last Name\"\n",
    "C_GRADUATIONDATE = \"Graduation Date\"\n",
    "C_FULLNAME = \"Full Name\"\n",
    "C_ACTIVITYTYPE = \"Activity Type\"\n",
    "C_ACTIVITYSTARTDATE = \"Activity Start Date\"\n",
    "C_ACTIVITYENDDATE = \"Activity End Date\"\n",
    "C_ACTIVITYRESULT = \"Activity Result\"\n",
    "C_ACTIVITYPARTICIPANTRESULT = \"Activity Participant Result\"\n",
    "C_ACTIVITYCATEGORY = \"Activity Category\"\n",
    "C_PADDLERTYPE = \"Paddler Type\"\n",
    "C_TRIPCOUNT = \"Trip Count\"\n",
    "C_COURSEPOSITION = \"Course Position\"\n",
    "\n",
    "PT_BASIC = \"Basic\"\n",
    "PT_EQUIVALENCY = \"Equivalency\"\n",
    "\n",
    "# Course positions that represent graduation.\n",
    "COURSEPOSITION_LIST = [\"Graduate\", \"Equivalent\"]\n",
    "\n",
    "# Sea kayaking activity type.\n",
    "AT_SEAKAYAKING = \"Sea Kayaking\"\n",
    "\n",
    "\n",
    "# Define contents of our two data files\n",
    "# Roster contains a roster of graduated students.\n",
    "RosterFile = FileCols([ C_FIRSTNAME, C_LASTNAME, \"Email\", \"Registration Status\", C_COURSEPOSITION, C_GRADUATIONDATE ],\n",
    "\t\t\t\t\t\t\t\t[ C_GRADUATIONDATE] , [], [C_GRADUATIONDATE])\n",
    "# Activity contains a list of graduate's subsequent activities\n",
    "ActivityFile = FileCols([ C_FIRSTNAME, C_LASTNAME, \"Email\", \"Course Title\", \"Activity Title\", C_ACTIVITYCATEGORY, C_ACTIVITYTYPE, C_ACTIVITYSTARTDATE, C_ACTIVITYENDDATE, C_ACTIVITYRESULT, \"Activity Participant Registration Status\", C_ACTIVITYPARTICIPANTRESULT ],\n",
    "\t\t\t\t\t\t\t\t[C_ACTIVITYSTARTDATE, C_ACTIVITYENDDATE], [], [ C_ACTIVITYRESULT, C_ACTIVITYPARTICIPANTRESULT])\n",
    "\n",
    "EquivRosterFileBase = \"Seattle Equivalency\"\n",
    "EquivActivityFileBase = \"Seattle Equivalency Activity\"\n",
    "EquivDates = [ 2015, 2016, 2021 ]\n",
    "\n",
    "BasicRosterFileBase = \"Seattle Basic\"\n",
    "BasicActivityFileBase = \"Seattle Basic Activity\"\n",
    "BasicDates = [ 2015, 2016, 2017, 2018, 2019, 2021 ]\n",
    "\n",
    "# Types of activities we count.  Exclude field trips, lectures, and seminars. \n",
    "ActivityCategoryList = [ \"Trip\", \"Clinic\" ]\n",
    "\n"
   ]
  },
  {
   "cell_type": "code",
   "execution_count": 3,
   "metadata": {},
   "outputs": [],
   "source": [
    "def LoadData (dataDirectory, rosterFileBase, rosterCols: FileCols, activityFileBase, activityCols: FileCols, paddlerType, dateList, activityCategoryList):\n",
    "\troster = None\n",
    "\tactivity = None\n",
    "\tfor date in dateList:\n",
    "\t\t#\n",
    "\t\t# Load the roster\n",
    "\t\t#\n",
    "\t\tfileName = f\"{rosterFileBase} {date}.csv\"\n",
    "\t\tfilePath = Path(dataDirectory, fileName)\n",
    "\t\tctm = rosterCols.colTypeMap\n",
    "\t\tr = pd.read_csv(filePath, usecols=rosterCols.allCols, parse_dates=rosterCols.dateCols, dtype=ctm)\n",
    "\t\t# Drop people who did not graduate\n",
    "\t\tr = r[r[C_COURSEPOSITION].isin(COURSEPOSITION_LIST)]\n",
    "\n",
    "\t\t# Fix columns that should contain empty string, not NaN and drop rows that still have NaN\n",
    "\t\tfor n in rosterCols.fixnaCols:\n",
    "\t\t\tr[n].fillna('')\n",
    "\t\tr.dropna(inplace=True)\n",
    "\n",
    "\t\tif roster is None:\n",
    "\t\t\troster = r\n",
    "\t\telse:\n",
    "\t\t\troster = roster.append(r)\n",
    "\n",
    "\n",
    "\t\t#\n",
    "\t\t# Load the activity report\n",
    "\t\t#\n",
    "\t\tfileName = f\"{activityFileBase} {date}.csv\"\n",
    "\t\tfilePath = Path(dataDirectory, fileName)\n",
    "\t\ta = pd.read_csv(filePath, usecols=activityCols.allCols, parse_dates=activityCols.dateCols, dtype=activityCols.colTypeMap)\n",
    "\n",
    "\t\t# Fix columns that should contain empty string, not NaN and drop rows that still have NaN\n",
    "\t\tfor n in activityCols.fixnaCols:\n",
    "\t\t\ta[n].fillna('')\n",
    "\t\ta.dropna(inplace=True)\n",
    "\n",
    "\t\t# Limit to Sea Kayaking and specific activity category\n",
    "\t\ta = a[ (a[C_ACTIVITYTYPE] == AT_SEAKAYAKING) ]\n",
    "\t\ta = a[ a[C_ACTIVITYCATEGORY].isin(activityCategoryList) ]\n",
    "\t\tif activity is None:\n",
    "\t\t\tactivity = a\n",
    "\t\telse:\n",
    "\t\t\tactivity = activity.append(a)\n",
    "\n",
    "\t# Set paddler type and full name field for easier cross reference.\n",
    "\troster[C_PADDLERTYPE] = paddlerType\n",
    "\troster[C_FULLNAME] = roster[C_FIRSTNAME] + \" \" + roster[C_LASTNAME]\n",
    "\tactivity[C_FULLNAME] = activity[C_FIRSTNAME] + \" \" + activity[C_LASTNAME]\n",
    "\n",
    "\t# Use full name as index.  \t\n",
    "\troster.set_index(C_FULLNAME, inplace=True)\n",
    "\tactivity.set_index(C_FULLNAME, inplace=True)\n",
    "\n",
    "\treturn (roster, activity)\n",
    "\n",
    "(basicRoster, basicActivity) = LoadData(DataDirectory, BasicRosterFileBase, RosterFile, BasicActivityFileBase, ActivityFile, PT_BASIC, BasicDates, ActivityCategoryList)\n",
    "#basicRoster.to_csv(\"BasicRoster.csv\")\n",
    "#basicActivity.to_csv(\"BasicActivity.csv\")\n",
    "(equivRoster, equivActivity) = LoadData(DataDirectory, EquivRosterFileBase, RosterFile, EquivActivityFileBase, ActivityFile, PT_EQUIVALENCY, EquivDates, ActivityCategoryList)\n",
    "#equivRoster.to_csv(\"EquivRoster.csv\")\n",
    "#equivActivity.to_csv(\"EquivActivity.csv\")\n",
    "fullRoster = basicRoster.append(equivRoster)\n",
    "fullActivity = basicActivity.append(equivActivity)\n",
    "fullRoster.to_csv(\"fullRoster.csv\")\n",
    "fullActivity.to_csv(\"fullActivity.csv\")\n",
    "\n"
   ]
  },
  {
   "cell_type": "code",
   "execution_count": 4,
   "metadata": {},
   "outputs": [],
   "source": [
    "# Calculate trip counts for entries on roster\n",
    "# Apply a lambda function on reach row.  \n",
    "#   fullActivity.index == row.name\n",
    "# returns an array of True, False for index matching name.  sum() calculates sum of those, counting True as 1 and False a 0\n",
    "fullRoster[C_TRIPCOUNT] = fullRoster.apply(lambda row : sum(fullActivity.index == row.name), axis=1)"
   ]
  },
  {
   "cell_type": "code",
   "execution_count": 5,
   "metadata": {},
   "outputs": [
    {
     "data": {
      "text/plain": [
       "Text(0.5, 1.0, 'Number of Trips by Paddler')"
      ]
     },
     "execution_count": 5,
     "metadata": {},
     "output_type": "execute_result"
    },
    {
     "data": {
      "image/png": "[encoded data removed]",
      "text/plain": [
       "<Figure size 1800x720 with 1 Axes>"
      ]
     },
     "metadata": {
      "needs_background": "light"
     },
     "output_type": "display_data"
    }
   ],
   "source": [
    "plt.figure(figsize=(25,10))\n",
    "\n",
    "# Get trip count series for basic and equivalency paddlers\n",
    "btc = fullRoster[fullRoster[C_PADDLERTYPE] == PT_BASIC][C_TRIPCOUNT]\n",
    "etc = fullRoster[fullRoster[C_PADDLERTYPE] == PT_EQUIVALENCY][C_TRIPCOUNT]\n",
    "\n",
    "b = max(btc.max(), btc.max())\n",
    "\n",
    "# Graph the two\n",
    "plt.hist(btc, bins=btc.max(), alpha=1.0, label=PT_BASIC, align='left', rwidth=0.8)\n",
    "plt.hist(etc, bins=etc.max(), alpha=1.0, label=PT_EQUIVALENCY, align='left', rwidth=0.8)\n",
    "plt.xlabel(\"Number of Trips\")\n",
    "plt.xticks(range(0,b,5))\n",
    "plt.ylabel(\"Number of Paddlers\")\n",
    "plt.legend()\n",
    "plt.title(\"Number of Trips by Paddler\")\n"
   ]
  },
  {
   "cell_type": "code",
   "execution_count": 6,
   "metadata": {},
   "outputs": [],
   "source": [
    "# Add grad year for easier grouping.\n",
    "fullRoster[\"gradyear\"] = fullRoster.apply(lambda row : row[C_GRADUATIONDATE].year, axis=1)\n",
    "# Group by paddler type and grad year\n",
    "# this givs us a two level grouping.  yg[PT_BASIC] is a series with index of years and value of number of graduates\n",
    "#  yg[PT_BASIC].index and yg[PT_BASIC].values\n",
    "yg = fullRoster.groupby([C_PADDLERTYPE, \"gradyear\"]).size()\n",
    "\n",
    "# But there may be missing years (2020 no basic class).  To display both on one graph we need\n",
    "# to align the data.  Do this by creating a new data frame with a column for basic and equivlency.\n",
    "# Then fill NaN with zero graduates.\n",
    "yd = pd.DataFrame({PT_BASIC: yg[PT_BASIC], PT_EQUIVALENCY: yg[PT_EQUIVALENCY]})\n",
    "yd.fillna(0, inplace=True)\n",
    "\n",
    "# Now we have a dataframe with number of graduates each year."
   ]
  },
  {
   "cell_type": "code",
   "execution_count": 7,
   "metadata": {},
   "outputs": [
    {
     "data": {
      "text/plain": [
       "<BarContainer object of 7 artists>"
      ]
     },
     "execution_count": 7,
     "metadata": {},
     "output_type": "execute_result"
    },
    {
     "data": {
      "image/png": "[encoded data removed]",
      "text/plain": [
       "<Figure size 432x288 with 1 Axes>"
      ]
     },
     "metadata": {
      "needs_background": "light"
     },
     "output_type": "display_data"
    }
   ],
   "source": [
    "# Create array of length equal to the number of years\n",
    "X = np.arange(len(yd))\n",
    "fig = plt.figure()\n",
    "ax = fig.add_axes([0,0,1,1])\n",
    "plt.title(\"Number of Graduates\")\n",
    "ax.set_xlabel(\"Year\")\n",
    "ax.set_ylabel(\"Number of Graduates\")\n",
    "ax.bar(X, yd[PT_BASIC].values, tick_label=yd.index, width = 0.25, label=PT_BASIC)\n",
    "ax.bar(X + 0.25, yd[PT_EQUIVALENCY].values,  width = 0.25, label=PT_EQUIVALENCY)\n"
   ]
  }
 ],
 "metadata": {
  "interpreter": {
   "hash": "4a4d0c5d95e21ffe84bde07faf993766ae9ac19962ae546d4065a52a7aa96462"
  },
  "kernelspec": {
   "display_name": "Python 3.9.4 64-bit ('env': venv)",
   "name": "python3"
  },
  "language_info": {
   "codemirror_mode": {
    "name": "ipython",
    "version": 3
   },
   "file_extension": ".py",
   "mimetype": "text/x-python",
   "name": "python",
   "nbconvert_exporter": "python",
   "pygments_lexer": "ipython3",
   "version": "3.9.4"
  },
  "orig_nbformat": 4
 },
 "nbformat": 4,
 "nbformat_minor": 2
}
