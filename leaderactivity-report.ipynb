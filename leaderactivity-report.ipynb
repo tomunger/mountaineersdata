{
 "metadata": {
  "language_info": {
   "codemirror_mode": {
    "name": "ipython",
    "version": 3
   },
   "file_extension": ".py",
   "mimetype": "text/x-python",
   "name": "python",
   "nbconvert_exporter": "python",
   "pygments_lexer": "ipython3",
   "version": "3.7.2-final"
  },
  "orig_nbformat": 2,
  "kernelspec": {
   "name": "python3",
   "display_name": "Python 3"
  }
 },
 "nbformat": 4,
 "nbformat_minor": 2,
 "cells": [
  {
   "source": [
    "# Mountaineers Trip Report Analysis\n",
    "\n",
    "this proccess a leader activity report from the mountaineers (produced by Sara Ramsey).  \n",
    "\n",
    "The report had these columns\n",
    "\n",
    " * `plone ID`\n",
    " * `Contact: Branch`\n",
    " * `Last Name`\n",
    " * `First Name`\n",
    " * `Email`\n",
    " * `Activity Role`\n",
    " * `Mountaineers Activity: Activity Category`\n",
    " * `Mountaineers Activity: Start Date`\n",
    " * `Mountaineers Activity: Activity Name`\n",
    " * `Mountaineers Activity: Leader`\n",
    " * `Mountaineers Activity: Trip Results`\n",
    "\n",
    "I did some manual processing to remove leaders who were not actually Seattle Branch\n"
   ],
   "cell_type": "markdown",
   "metadata": {}
  },
  {
   "cell_type": "code",
   "execution_count": null,
   "metadata": {},
   "outputs": [],
   "source": [
    "import pandas as pd\n",
    "import matplotlib.pyplot as plt\n",
    "import datetime\n",
    "import mtnleaderreport\n",
    "from pathlib import Path\n"
   ]
  },
  {
   "cell_type": "code",
   "execution_count": null,
   "metadata": {},
   "outputs": [],
   "source": [
    "#\n",
    "# Set up paths to data directory and report output directory\n",
    "#\n",
    "dataDirectory = Path(Path.home(), \"Documents/mountaineers/kayak-seattle/leaderactivity\")\n",
    "dataFileName = \"Seattle SK Leaders 2018-20v2.csv\"\n",
    "Branch = 'Seattle'\n",
    "reportDirectory = os.path.join(dataDirectory, \"reports\")\n",
    "if not os.path.exists(reportDirectory):\n",
    "    os.makedirs(reportDirectory)"
   ]
  },
  {
   "cell_type": "code",
   "execution_count": null,
   "metadata": {},
   "outputs": [],
   "source": [
    "tripData, earliestDate, latestDate, labelDateRange = mtnleaderreport.loadData(dataDirectory, dataFileName, branch=Branch)\n"
   ]
  },
  {
   "cell_type": "code",
   "execution_count": null,
   "metadata": {},
   "outputs": [],
   "source": [
    "tripData.info()\n",
    "#tripData.head(60)\n"
   ]
  },
  {
   "cell_type": "code",
   "execution_count": null,
   "metadata": {},
   "outputs": [],
   "source": [
    "#\n",
    "# Define function to plot a graph and save to file.\n",
    "#\n",
    "def plotActivity(dataSet, title):\n",
    "    leaderCounts = dataSet.value_counts()\n",
    "    maxCount = leaderCounts.max()\n",
    "    xTicks = [ x for x in range(0,maxCount + 1)]\n",
    "\n",
    "    ysize = int(len(leaderCounts) / 2) + 2\n",
    "    leaderCounts.plot.barh(figsize=(25,ysize), title=title, xticks=xTicks, color=(0.3, 0.8, 0.5, 1.0))\n",
    "    fileName = os.path.join(reportDirectory, f\"{title}.jpg\")\n",
    "    print (f\"Saving '{fileName}', size {ysize}\")\n",
    "    plt.savefig(fileName)\n",
    "    plt.show()"
   ]
  },
  {
   "cell_type": "code",
   "execution_count": null,
   "metadata": {},
   "outputs": [],
   "source": [
    "ALL = 'All'\n",
    "\n",
    "#\n",
    "# Build list of all leader rolls plus ALL\n",
    "#\n",
    "roleList = [ ALL ]\n",
    "roleList.extend(tripData[mtnleaderreport.H_ACTIVITY_ROLE].unique())\n",
    "\n",
    "# Iterate on the rolls.\n",
    "for role in roleList:\n",
    "    if role != ALL:\n",
    "        # Select records for that activity role\n",
    "        rds = tripData.loc[tripData[mtnleaderreport.H_ACTIVITY_ROLE] == role]\n",
    "    else:\n",
    "        rds = tripData\n",
    "\n",
    "    # Build a list of all activity categories and iterate on that.\n",
    "    categoryList = [ ALL ]\n",
    "    categoryList.extend(rds[mtnleaderreport.H_ACTIVITY_CATEGORY].unique())\n",
    "    for category in categoryList:\n",
    "        if category != ALL:\n",
    "            # Select records for that category\n",
    "            cds = rds.loc[rds[mtnleaderreport.H_ACTIVITY_CATEGORY] == category]\n",
    "        else:\n",
    "            cds = rds\n",
    "\n",
    "        # Plot a new data from count of times the leader full name appears.\n",
    "        plotActivity(cds[mtnleaderreport.H_FULL_NAME], f\"{role} + {category} on {labelDateRange}\")\n",
    "       \n",
    "\n"
   ]
  },
  {
   "cell_type": "code",
   "execution_count": null,
   "metadata": {},
   "outputs": [],
   "source": [
    "plotActivity(tripData[mtnleaderreport.H_ACTIVITY_NAME], \"Activities\")"
   ]
  },
  {
   "cell_type": "code",
   "execution_count": null,
   "metadata": {},
   "outputs": [],
   "source": [
    "    \n",
    "\n",
    "#ds_trips = tripData.loc[tripData[mtnleaderreport.H_ACTIVITY_CATEGORY] == 'Trip']\n",
    "title = 'As Primary Leader'\n",
    "fileName = os.path.join(reportDirectory, f\"{title}.jpg\")\n",
    "dateRange = mtnleaderreport.fullMonthRange(earliestDate, latestDate)\n",
    "ds_primaryleader = tripData.loc[tripData[mtnleaderreport.H_ACTIVITY_ROLE] == 'Primary leader']\n",
    "plotTrips(ds_primaryleader, dateRange, title, fileName)\n",
    "\n"
   ]
  },
  {
   "cell_type": "code",
   "execution_count": null,
   "metadata": {},
   "outputs": [],
   "source": []
  }
 ]
}